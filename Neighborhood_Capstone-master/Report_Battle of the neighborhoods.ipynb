{
 "cells": [
  {
   "cell_type": "markdown",
   "metadata": {},
   "source": [
    "# Applied Data Science Capstone\n",
    "\n",
    "## Peer-graded Assignment: Capstone Project - The Battle of Neighborhoods"
   ]
  },
  {
   "cell_type": "markdown",
   "metadata": {},
   "source": [
    "Now that you have been equipped with the skills and the tools to use location data to explore a geographical location, \n",
    "over the course of two weeks, you will have the opportunity to be as creative as you want and come up with an idea to \n",
    "leverage the Foursquare location data to explore or compare neighborhoods or cities of your choice or to come up with a \n",
    "problem that you can use the Foursquare location data to solve.\n"
   ]
  },
  {
   "cell_type": "markdown",
   "metadata": {},
   "source": [
    "## 1) Introduction/Business Problem\n",
    "\n",
    "Clearly define a problem or an idea of your choice, where you would need to leverage the Foursquare location data to \n",
    "solve or execute. Remember that data science problems always target an audience and are meant to help a group of \n",
    "stakeholders solve a problem, so make sure that you explicitly describe your audience and why they would care about \n",
    "your problem.\n",
    "\n",
    "**_The idea of this study is to help people to be able to choose the best location to open a restaurant in NY City**"
   ]
  },
  {
   "cell_type": "markdown",
   "metadata": {},
   "source": [
    "## 2) Downloading and Prepping Data\n",
    "\n",
    "Describe the data that you will be using to solve the problem or execute your idea. Remember that you will need to use \n",
    "the Foursquare location data to solve the problem or execute your idea. You can absolutely use other datasets in \n",
    "combination with the Foursquare location data. So make sure that you provide adequate explanation and discussion, \n",
    "with examples, of the data that you will be using, even if it is only Foursquare location data.\n",
    "\n",
    "\n",
    "** New York City Data:\n",
    "https://cocl.us/new_york_dataset\n",
    "\n",
    "** Venues and Venues Rating is supplied from Foursquare API"
   ]
  },
  {
   "cell_type": "markdown",
   "metadata": {},
   "source": [
    "## 3) Methodology\n",
    "\n",
    "Methodology section which represents the main component of the report where you discuss and describe any exploratory data analysis\n",
    "that you did, any inferential statistical testing that you performed, and what machine learnings were used and why.\n",
    "\n",
    "**_For this report I used Foursquare API to find the Neighborhood with the highest venues and lowest number of restuarant, this will help \n",
    "startups to locate the best place to open a restaurant**"
   ]
  },
  {
   "cell_type": "markdown",
   "metadata": {},
   "source": [
    "## 4) Results\n",
    "\n",
    "Results section where you discuss the results.\n",
    "\n",
    "** Comparing results i found out that 2 of the highest neighborhood with venues had 0 Restuarants in their area**\n"
   ]
  },
  {
   "cell_type": "markdown",
   "metadata": {},
   "source": [
    "## 5) Discussion\n",
    "\n",
    "Discussion section where you discuss any observations you noted and any recommendations you can make based on the results.\n",
    "\n",
    "** Futhuer improvmenet should be made based on crime rate, venues and neighborhood rating**"
   ]
  },
  {
   "cell_type": "markdown",
   "metadata": {},
   "source": [
    "## 6) Conclusion\n",
    "\n",
    "Conclusion section where you conclude the report.\n",
    "\n",
    "** This report will be helpful for someone who wants to create a restaurant in New York City, it will give him a fine idea about where to start.**"
   ]
  },
  {
   "cell_type": "code",
   "execution_count": null,
   "metadata": {},
   "outputs": [],
   "source": []
  }
 ],
 "metadata": {
  "kernelspec": {
   "display_name": "Python 3",
   "language": "python",
   "name": "python3"
  },
  "language_info": {
   "codemirror_mode": {
    "name": "ipython",
    "version": 3
   },
   "file_extension": ".py",
   "mimetype": "text/x-python",
   "name": "python",
   "nbconvert_exporter": "python",
   "pygments_lexer": "ipython3",
   "version": "3.7.3"
  }
 },
 "nbformat": 4,
 "nbformat_minor": 2
}
